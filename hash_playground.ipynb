{
 "cells": [
  {
   "cell_type": "markdown",
   "metadata": {},
   "source": [
    "# Hashについて色々考えてみた"
   ]
  },
  {
   "cell_type": "markdown",
   "metadata": {},
   "source": [
    "## 元の文字列がめっちゃ近いのにハッシュ値が同じになるという話\n",
    "- 2024/03/20 辺りに以下のツイートが話題になった\n",
    "  - https://x.com/realhashbreaker/status/1770161965006008570\n",
    "\n",
    "```text\n",
    "Here is a 72-byte alphanum MD5 collision with 1-byte difference for fun:\n",
    " md5(\"TEXTCOLLBYfGiJUETHQ4hAcKSMd5zYpgqf1YRDhkmxHkhPWptrkoyz28wnI9V0aHeAuaKnak\")\n",
    "=\n",
    "md5(\"TEXTCOLLBYfGiJUETHQ4hEcKSMd5zYpgqf1YRDhkmxHkhPWptrkoyz28wnI9V0aHeAuaKnak\")\n",
    "```\n",
    "\n",
    "> これは、1 バイトの違いがある 72 バイトの英数字 MD5 衝突です。\n"
   ]
  },
  {
   "cell_type": "markdown",
   "metadata": {},
   "source": [
    "### つまりどういうこと？\n",
    "- わからないので試してみた"
   ]
  },
  {
   "cell_type": "code",
   "execution_count": 1,
   "metadata": {},
   "outputs": [],
   "source": [
    "import hashlib\n",
    "import bcrypt # pip install bcrypt"
   ]
  },
  {
   "cell_type": "code",
   "execution_count": 2,
   "metadata": {},
   "outputs": [],
   "source": [
    "text1 = \"TEXTCOLLBYfGiJUETHQ4hAcKSMd5zYpgqf1YRDhkmxHkhPWptrkoyz28wnI9V0aHeAuaKnak\"\n",
    "text2 = \"TEXTCOLLBYfGiJUETHQ4hEcKSMd5zYpgqf1YRDhkmxHkhPWptrkoyz28wnI9V0aHeAuaKnak\"\n",
    "#                             ↑22文字目が「A」と「E」で異なる\n",
    "assert text1 != text2"
   ]
  },
  {
   "cell_type": "code",
   "execution_count": 3,
   "metadata": {},
   "outputs": [
    {
     "name": "stdout",
     "output_type": "stream",
     "text": [
      "faad49866e9498fc1719f5289e7a0269 faad49866e9498fc1719f5289e7a0269\n"
     ]
    }
   ],
   "source": [
    "hash1 = hashlib.md5(text1.encode()).hexdigest()\n",
    "hash2 = hashlib.md5(text2.encode()).hexdigest()\n",
    "\n",
    "assert hash1 == hash2\n",
    "print(hash1, hash2)\n"
   ]
  },
  {
   "cell_type": "markdown",
   "metadata": {},
   "source": [
    "### つまり？\n",
    "- md5で上記の2つの文字列をハッシュ化すると同じハッシュ値が出力される\n",
    "- 元の2つの文字列が1字しか違わない\n",
    "- 72文字しかない\n",
    "\n",
    "↑っというところが凄い。"
   ]
  },
  {
   "cell_type": "markdown",
   "metadata": {},
   "source": [
    "### 脆弱性とかそういう話じゃないの？\n",
    "- そうではない\n",
    "- そもそもmd5は古いハッシュ関数であり、現在では使われるべきではない\n",
    "- よく考えてみると md5は128bitのハッシュ値 -> 文字列化すると32文字 → 72文字の文字列をハッシュ化するのだからハッシュ値が衝突するに決まっている\n",
    "  - 数が違うのだからすべてユニークになるわけがない\n",
    "  - →32文字で表される ものと 72文字で表されるもの は表される値が違う\n",
    "- ただ、1文字しか違わないところが「面白い」というだけの話"
   ]
  },
  {
   "cell_type": "markdown",
   "metadata": {},
   "source": [
    "## ハッシュが重複しても良いってどういうことか考えてみた\n",
    "- ハッシュは重複する可能性がある\n",
    "- 可能性はあるが、実際に重複する確率は極めて低いので無視できる\n",
    "  - 例えばGitのコミットハッシュは40桁ある\n",
    "    - \"非常に大きなプロジェクトで、1000人のアクティブな開発者が、日に10回のコミットをしたとする。この場合、4×10の17乗年間活動を続けると、50%の確率で衝突が発生する。\"\n",
    "      - （宇宙の年齢よりも長い）\n",
    "    - https://dassencio.org/20"
   ]
  },
  {
   "cell_type": "markdown",
   "metadata": {},
   "source": [
    "### それはそうなんだけどログインパスワードとかいいんだっけ？\n",
    "- そもそも何が問題なんだっけ？\n",
    "- パスワード「a」とパスワード「b」のハッシュが同じだった時に何が問題あるのだろう？\n",
    "- 事象「ログイン時にパスワード入力する時に「a」と入れても「b」と入れてもログインできてしまう」\n",
    "- それはよくないことだと思うけど、なぜよくないのか？\n",
    "- 不正ログインされる場合にランダムに入力される際にログインできる確率が2倍になる\n",
    "- 例えば実際のパスワードは超長くて複雑な文字列だけど、ハッシュが同じだったら「a」とか「b」とか短い文字列でログインできるかもしれない\n",
    "- それはそうなんだけど、なぜ許されているのか。"
   ]
  },
  {
   "cell_type": "markdown",
   "metadata": {},
   "source": [
    "### もうちょっと具体的にしてみる\n",
    "- あるサービスでログインパスワードとして「超長くて複雑な文字列」を設定したとする\n",
    "- そのサービスが攻撃されて、不正ログインを狙うためにランダムにパスワードを入力する攻撃が行われたとする\n",
    "- 攻撃者はよくあるパスワードの一覧を持っており、よくあるパスワードを試す\n",
    "- よくあるパスワードのハッシュと「超長くて複雑な文字列」のハッシュが同じだった場合、攻撃者はよくあるパスワードを利用して本来は「超長くて複雑な文字列」を入力しないとログインできないはずのサービスにログインできてしまう"
   ]
  },
  {
   "cell_type": "markdown",
   "metadata": {},
   "source": [
    "### この懸念は理論上は正しいが、実際には問題にならない\n",
    "- 事実上、ハッシュが重複することはほぼないから。\n",
    "  - 結局この1点らしい。。。"
   ]
  },
  {
   "cell_type": "markdown",
   "metadata": {},
   "source": [
    "## ソルトとかペッパーとかストレッチングとか聞いたことあるけどその辺りはどうなん？\n",
    "- ソルトやペッパー、ストレッチングなどを使っても結局ハッシュは衝突する\n",
    "- これらは全てパスワードハッシュが漏洩した際の防御策である"
   ]
  },
  {
   "cell_type": "markdown",
   "metadata": {},
   "source": [
    "ここから、ソルトとかペッパーとかストレッチとかを試してみます\n",
    "\n",
    "- 前提\n",
    "  - データベースを使用してユーザーの認証を行う\n",
    "  - データは漏洩する\n",
    "  - ユーザーはパスワードを使いまわす\n"
   ]
  },
  {
   "cell_type": "code",
   "execution_count": 7,
   "metadata": {},
   "outputs": [
    {
     "data": {
      "text/plain": [
       "'\\n- データベースが侵害された場合、パスワードがそのまま漏洩する\\n- 漏洩したサービスのアカウントが不正ログインされる\\n- 更に他のサービスもアカウントが不正ログインされる\\n  - ユーザーはパスワードを使いまわす\\n'"
      ]
     },
     "execution_count": 7,
     "metadata": {},
     "output_type": "execute_result"
    }
   ],
   "source": [
    "# 一番シンプルなデータ保存の形\n",
    "# ユーザー名とパスワードをそのまま保存する\n",
    "\"\"\"\n",
    "| user_name | password |\n",
    "|-----------|----------|\n",
    "| user1     | 12345    |\n",
    "| user2     | password |\n",
    "| user3     | 12345    |\n",
    "\"\"\"\n",
    "\n",
    "# メリット\n",
    "\"\"\"\n",
    "- 実装が容易\n",
    "\"\"\"\n",
    "\n",
    "# デメリット\n",
    "\"\"\"\n",
    "- データベースが侵害された場合、パスワードがそのまま漏洩する\n",
    "- 漏洩したサービスのアカウントが不正ログインされる\n",
    "- 更に他のサービスもアカウントが不正ログインされる\n",
    "  - ユーザーはパスワードを使いまわす\n",
    "\"\"\""
   ]
  },
  {
   "cell_type": "code",
   "execution_count": 8,
   "metadata": {},
   "outputs": [
    {
     "name": "stdout",
     "output_type": "stream",
     "text": [
      "5994471abb01112afcc18159f6cc74b4f511b99806da59b3caf5a9c173cacfc5 5e884898da28047151d0e56f8dc6292773603d0d6aabbdd62a11ef721d1542d8\n"
     ]
    },
    {
     "data": {
      "text/plain": [
       "'\\n- 同じパスワードのハッシュ値が同じになる\\n- レインボーテーブル攻撃に弱い\\n  - あらかじめ計算しておいたハッシュ値とパスワードの対応表を使って、ハッシュ値から元のパスワードを逆引きする攻撃\\n  - ハッシュ値が同じならパスワードも同じ\\n'"
      ]
     },
     "execution_count": 8,
     "metadata": {},
     "output_type": "execute_result"
    }
   ],
   "source": [
    "import hashlib\n",
    "# パスワードのハッシュ化\n",
    "# パスワードをハッシュ化して保存する\n",
    "# → 入力されたパスワードを同じようにハッシュ化して、保存されているハッシュ値と比較する\n",
    "\n",
    "hash11 = hashlib.sha256(\"12345\".encode()).hexdigest()\n",
    "hash12 = hashlib.sha256(\"password\".encode()).hexdigest()\n",
    "print(hash11, hash12)\n",
    "\n",
    "\"\"\"\n",
    "| user_name | password_hash                                                    |\n",
    "|-----------|------------------------------------------------------------------|\n",
    "| user1     | 5994471abb01112afcc18159f6cc74b4f511b99806da59b3caf5a9c173cacfc5 |\n",
    "| user2     | 5e884898da28047151d0e56f8dc6292773603d0d6aabbdd62a11ef721d1542d8 |\n",
    "| user3     | 5994471abb01112afcc18159f6cc74b4f511b99806da59b3caf5a9c173cacfc5 |\n",
    "\"\"\"\n",
    "\n",
    "# メリット\n",
    "\"\"\"\n",
    "- データベースが侵害された場合でも、パスワードを知ることができない\n",
    "\"\"\"\n",
    "\n",
    "# デメリット\n",
    "\"\"\"\n",
    "- 同じパスワードのハッシュ値が同じになる\n",
    "- レインボーテーブル攻撃に弱い\n",
    "  - あらかじめ計算しておいたハッシュ値とパスワードの対応表を使って、ハッシュ値から元のパスワードを逆引きする攻撃\n",
    "  - ハッシュ値が同じならパスワードも同じ\n",
    "\"\"\""
   ]
  },
  {
   "cell_type": "code",
   "execution_count": 9,
   "metadata": {},
   "outputs": [
    {
     "name": "stdout",
     "output_type": "stream",
     "text": [
      "df6a0e03d56c152b90ef2671bc1a6de6a0b300668b27c44e028a2a2e86bb0ea8 744a92b96a293fe9af00134b37a2e9ad72be7162f7f3167b2c3ee0419f1d682b 70f33726b270155dde08000f2b5ecd73e73844f15259a50e43e7b499720a417f\n"
     ]
    },
    {
     "data": {
      "text/plain": [
       "'\\n- 管理上のコストが増える\\n  - ソルトの生成、保存が必要\\n- データベースが侵害された場合、ハッシュとソルトを知ることができるため、時間をかければパスワードを知ることができる\\n'"
      ]
     },
     "execution_count": 9,
     "metadata": {},
     "output_type": "execute_result"
    }
   ],
   "source": [
    "# ソルトを使ったハッシュ化\n",
    "# パスワードにソルトを付けてハッシュ化する（ユーザー毎に異なるソルトを使う）\n",
    "\"\"\"\n",
    "| user_name | password_hash                    | salt |\n",
    "|-----------|----------------------------------|------|\n",
    "| user1     | df6a0e03d56c152b90ef2671bc1a6de6a0b300668b27c44e028a2a2e86bb0ea8 | 1234 |\n",
    "| user2     | 744a92b96a293fe9af00134b37a2e9ad72be7162f7f3167b2c3ee0419f1d682b | 5678 |\n",
    "| user3     | 70f33726b270155dde08000f2b5ecd73e73844f15259a50e43e7b499720a417f | abcd |\n",
    "\"\"\"\n",
    "hash21 = hashlib.sha256((\"12345\" + \"1234\").encode()).hexdigest()\n",
    "hash22 = hashlib.sha256((\"password\" + \"5678\").encode()).hexdigest()\n",
    "hash23 = hashlib.sha256((\"12345\" + \"abcd\").encode()).hexdigest()\n",
    "print(hash21, hash22, hash23)\n",
    "\n",
    "# メリット\n",
    "\"\"\"\n",
    "- 同じパスワードでも、異なるハッシュ値になる\n",
    "\"\"\"\n",
    "\n",
    "# デメリット\n",
    "\"\"\"\n",
    "- 管理上のコストが増える\n",
    "  - ソルトの生成、保存が必要\n",
    "- データベースが侵害された場合、ハッシュとソルトを知ることができるため、時間をかければパスワードを知ることができる\n",
    "\"\"\""
   ]
  },
  {
   "cell_type": "code",
   "execution_count": 10,
   "metadata": {},
   "outputs": [
    {
     "name": "stdout",
     "output_type": "stream",
     "text": [
      "61b83a68bda7b6c17ce6f3f79f2492ae59be01da5024e2aa8663f18db7574faf 0962408c9b8e1920305e1eeb6bbefaf6bfb933967c9322d9193c9abf16188bac abd1edd84e6911fcffc034c5747cd7f21ed955642871356f3ee0c76227fdb061\n"
     ]
    },
    {
     "data": {
      "text/plain": [
       "'\\n- 管理上のコストが増える\\n  - ソルトの生成、保存が必要\\n- ぺッパーの管理が必要\\n  - ペッパーはアプリケーションコードや安全な環境設定ファイルなど、データベース外部の安全な場所に保管する必要があります\\n- ペッパーが漏洩した場合、ペッパーをバージョン管理する必要がある\\n  - すると、使用されたペッパーを特定するには？っという情報が必要になり複雑化する\\n'"
      ]
     },
     "execution_count": 10,
     "metadata": {},
     "output_type": "execute_result"
    }
   ],
   "source": [
    "# ソルト + ぺッパーを使ったハッシュ化\n",
    "# ソルトに加えて、固定の文字列（ぺッパー）を付けてハッシュ化する\n",
    "\"\"\"\n",
    "| user_name | password_hash                                                    | salt |\n",
    "|-----------|------------------------------------------------------------------|------|\n",
    "| user1     | 61b83a68bda7b6c17ce6f3f79f2492ae59be01da5024e2aa8663f18db7574faf | 1234 |\n",
    "| user2     | 0962408c9b8e1920305e1eeb6bbefaf6bfb933967c9322d9193c9abf16188bac | 5678 |\n",
    "| user3     | abd1edd84e6911fcffc034c5747cd7f21ed955642871356f3ee0c76227fdb061 | abcd |\n",
    "\"\"\"\n",
    "pepper = \"xyz\"\n",
    "hash31 = hashlib.sha256((\"12345\" + \"1234\" + pepper).encode()).hexdigest()\n",
    "hash32 = hashlib.sha256((\"password\" + \"5678\" + pepper).encode()).hexdigest()\n",
    "hash33 = hashlib.sha256((\"12345\" + \"abcd\" + pepper).encode()).hexdigest()\n",
    "print(hash31, hash32, hash33)\n",
    "\n",
    "# メリット\n",
    "\"\"\"\n",
    "- ソルトのみの場合よりも、より安全なハッシュ化が可能\n",
    "\"\"\"\n",
    "\n",
    "# デメリット\n",
    "\"\"\"\n",
    "- 管理上のコストが増える\n",
    "  - ソルトの生成、保存が必要\n",
    "- ぺッパーの管理が必要\n",
    "  - ペッパーはアプリケーションコードや安全な環境設定ファイルなど、データベース外部の安全な場所に保管する必要があります\n",
    "- ペッパーが漏洩した場合、ペッパーをバージョン管理する必要がある\n",
    "  - すると、使用されたペッパーを特定するには？っという情報が必要になり複雑化する\n",
    "\"\"\""
   ]
  },
  {
   "cell_type": "code",
   "execution_count": 11,
   "metadata": {},
   "outputs": [
    {
     "name": "stdout",
     "output_type": "stream",
     "text": [
      "06fb055eeaad491dba955d7e6ed010e0f3d9968e1a255965af061a8079c2ce9f 30a9db8394400eb6f9238df60b70fd7dabb4023f4e261055b5b187d30cd0446e 8af4bdbb493a7c2b6d43ec0178098fef221c072f72a45fe6cfeb4b507eae7e2d\n"
     ]
    },
    {
     "data": {
      "text/plain": [
       "'\\n- 「ハッシュ化の計算コストが増える」はデメリットとして挙げられるが、ブルートフォース攻撃に対して有効な手法である\\n  - パスワードを総当たりで解析する攻撃\\n'"
      ]
     },
     "execution_count": 11,
     "metadata": {},
     "output_type": "execute_result"
    }
   ],
   "source": [
    "# ソルト + ストレッチングを使ったハッシュ化\n",
    "# ハッシュ化した結果を何度もハッシュ化する\n",
    "\n",
    "\"\"\"\n",
    "| user_name | password_hash                                                    | salt |\n",
    "|-----------|------------------------------------------------------------------|------|\n",
    "| user1     | 06fb055eeaad491dba955d7e6ed010e0f3d9968e1a255965af061a8079c2ce9f | 1234 |\n",
    "| user2     | 30a9db8394400eb6f9238df60b70fd7dabb4023f4e261055b5b187d30cd0446e | 5678 |\n",
    "| user3     | 8af4bdbb493a7c2b6d43ec0178098fef221c072f72a45fe6cfeb4b507eae7e2d | abcd |\n",
    "\"\"\"\n",
    "\n",
    "hash41_1 = hashlib.sha256((\"12345\" + \"1234\").encode()).hexdigest()\n",
    "hash41_2 = hashlib.sha256(hash41_1.encode()).hexdigest()\n",
    "hash42_1 = hashlib.sha256((\"password\" + \"5678\").encode()).hexdigest()\n",
    "hash42_2 = hashlib.sha256(hash42_1.encode()).hexdigest()\n",
    "hash43_1 = hashlib.sha256((\"12345\" + \"abcd\").encode()).hexdigest()\n",
    "hash43_2 = hashlib.sha256(hash43_1.encode()).hexdigest()\n",
    "print(hash41_2, hash42_2, hash43_2)\n",
    "\n",
    "# メリット\n",
    "\"\"\"\n",
    "- 同じパスワードでも、異なるハッシュ値になる\n",
    "- 生成ロジック + ハッシュ + saltが漏洩したとしても、パスワードを解析するには時間がかかる\n",
    "\"\"\"\n",
    "\n",
    "# デメリット\n",
    "\"\"\"\n",
    "- 管理上のコストが増える\n",
    "  - ソルトの生成、保存が必要\n",
    "- ☆ハッシュ化の計算コストが増える\n",
    "\"\"\"\n",
    "\n",
    "\"\"\"\n",
    "- 「ハッシュ化の計算コストが増える」はデメリットとして挙げられるが、ブルートフォース攻撃に対して有効な手法である\n",
    "  - パスワードを総当たりで解析する攻撃\n",
    "\"\"\""
   ]
  }
 ],
 "metadata": {
  "kernelspec": {
   "display_name": ".venv",
   "language": "python",
   "name": "python3"
  },
  "language_info": {
   "codemirror_mode": {
    "name": "ipython",
    "version": 3
   },
   "file_extension": ".py",
   "mimetype": "text/x-python",
   "name": "python",
   "nbconvert_exporter": "python",
   "pygments_lexer": "ipython3",
   "version": "3.12.4"
  }
 },
 "nbformat": 4,
 "nbformat_minor": 2
}
